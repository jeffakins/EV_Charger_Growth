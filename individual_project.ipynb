{
 "cells": [
  {
   "cell_type": "markdown",
   "id": "313e7c47",
   "metadata": {},
   "source": [
    "# Individual Project\n",
    "By Jeff Akins"
   ]
  },
  {
   "cell_type": "markdown",
   "id": "84272e6d",
   "metadata": {},
   "source": [
    "#### ![EV Charging Station](https://i.insider.com/6042a8ac44d8e300117b9655?width=1200&format=jpeg)"
   ]
  },
  {
   "attachments": {},
   "cell_type": "markdown",
   "id": "7126536f",
   "metadata": {},
   "source": [
    "## Exploring the State of the Electric Vehicle Charging Network within the U.S.\n",
    "The world's methods of transportation are evolving, not only here in the United States, but globally. The EU recently proposed a mandate that all new vehicles be emissions free after 2035. In the U.S., the Biden administrations wants half of all new vehicles to be purely electric by 2030. Regardless of the mandates, buyers may be choosing to purchase EVs over their traditional internal combustion engine (ICE) counterparts in the upcoming years. No longer do you have to choose between the environment or the car that you want to drive. Many new EVs are surpassing comparable ICE vehicles in both speed, handling, and overall capability and new models of EVs are being introduced on a regular basis.\n",
    "\n",
    "So, with all these new EV coming online, is the charging infrastructure keeping up? Buyers may be asking themselves, how many charging stations will be nearby if I need one? If I decide to go on a road trip, how difficult will it be to find an open charging station? I will try and answer these questions using a bit of machine learning to show the state of the charging networks now and the predicted growth over the next several years.\n",
    "\n",
    "So, let's begin..."
   ]
  },
  {
   "cell_type": "markdown",
   "id": "bded9cf4",
   "metadata": {},
   "source": [
    "##### Imports:"
   ]
  },
  {
   "cell_type": "code",
   "execution_count": 1,
   "id": "95d5a11c",
   "metadata": {},
   "outputs": [],
   "source": [
    "import pandas as pd\n",
    "import numpy as np\n",
    "\n",
    "from datetime import datetime\n",
    "from sklearn.metrics import mean_squared_error\n",
    "from math import sqrt\n",
    "\n",
    "import matplotlib.pyplot as plt\n",
    "import seaborn as sns\n",
    "from pandas.plotting import register_matplotlib_converters\n",
    "import pandas.plotting\n",
    "\n",
    "import statsmodels.api as sm\n",
    "from statsmodels.tsa.api import Holt\n",
    "\n",
    "import modeling as md\n",
    "import wrangle as w\n",
    "import warnings\n",
    "warnings.filterwarnings('ignore')"
   ]
  },
  {
   "cell_type": "markdown",
   "id": "416874e4",
   "metadata": {},
   "source": [
    "### Data Acquisition: \n",
    "You can find the original dataset file [here](https://catalog.data.gov/dataset/alternative-fueling-station-locations-422f2/resource/341957d8-daf6-4a38-ab1d-8ec1bc21cfb9) on data.gov"
   ]
  },
  {
   "cell_type": "code",
   "execution_count": 2,
   "id": "d587f23d",
   "metadata": {},
   "outputs": [],
   "source": [
    "csv_file_name = 'alternative-fuel-stations-2021-csv-3.csv'\n",
    "ev = w.clean_ev(csv_file_name)"
   ]
  },
  {
   "cell_type": "markdown",
   "id": "24ccdd9a",
   "metadata": {},
   "source": [
    "### Data Preparation:\n",
    "The following steps were taken to clean the data:\n",
    "- Dropped all rows that were not \"electric\" charging stations\n",
    "- Dropped all columns with over 1000 null values\n",
    "- Dropped an additional 12 columns that would not be used for this project\n",
    "- Changed the pricing column to only include 'free' or 'cost' in the rows\n",
    "- Filled the EV connector types nulls with the most common connector type of 'J1772'\n",
    "- Fill EV Network nulls with most common 'non network' label\n",
    "- Added values for 2 missing longitude values based on city location\n",
    "- Renamed columns for ease of referencing and use with pandas\n",
    "- Converted date columns to pandas datetime type\n",
    "- Added a column for year that the charging station was opened\n",
    "- Converted all 'count' columns into 'int' type and filled nulls with 0\n",
    "- Replaced 'Public w/descriptor' with just 'Public' in group_access_code column\n",
    "- Replaced 'Private w/descriptor' with just 'Private' in group_access_code column\n",
    "- Dropped stations (rows) that are labeled as 'planned' and not yet accessible in the group_access_code column\n",
    "\n",
    "Results are below:"
   ]
  },
  {
   "cell_type": "code",
   "execution_count": 3,
   "id": "200ed395",
   "metadata": {},
   "outputs": [
    {
     "name": "stdout",
     "output_type": "stream",
     "text": [
      "<class 'pandas.core.frame.DataFrame'>\n",
      "RangeIndex: 47006 entries, 0 to 47005\n",
      "Data columns (total 20 columns):\n",
      " #   Column                  Non-Null Count  Dtype         \n",
      "---  ------                  --------------  -----         \n",
      " 0   fuel_code               47006 non-null  object        \n",
      " 1   station_name            47006 non-null  object        \n",
      " 2   address                 47006 non-null  object        \n",
      " 3   city                    47006 non-null  object        \n",
      " 4   state                   47006 non-null  object        \n",
      " 5   zip                     47006 non-null  object        \n",
      " 6   group_access_code       47006 non-null  object        \n",
      " 7   level1_evse_num         47006 non-null  int64         \n",
      " 8   level2_evse_num         47006 non-null  int64         \n",
      " 9   ev_dc_fast_count        47006 non-null  int64         \n",
      " 10  ev_network              47006 non-null  object        \n",
      " 11  lat                     47006 non-null  float64       \n",
      " 12  long                    47006 non-null  float64       \n",
      " 13  update_date             47006 non-null  datetime64[ns]\n",
      " 14  open_date               47006 non-null  datetime64[ns]\n",
      " 15  connector_type          47006 non-null  object        \n",
      " 16  pricing                 47006 non-null  object        \n",
      " 17  year_opened             47006 non-null  int64         \n",
      " 18  total_chargers          47006 non-null  int64         \n",
      " 19  rolling_total_chargers  47006 non-null  int64         \n",
      "dtypes: datetime64[ns](2), float64(2), int64(6), object(10)\n",
      "memory usage: 7.2+ MB\n"
     ]
    }
   ],
   "source": [
    "ev.info()"
   ]
  },
  {
   "cell_type": "code",
   "execution_count": 4,
   "id": "0659a05c",
   "metadata": {},
   "outputs": [
    {
     "data": {
      "text/html": [
       "<div>\n",
       "<style scoped>\n",
       "    .dataframe tbody tr th:only-of-type {\n",
       "        vertical-align: middle;\n",
       "    }\n",
       "\n",
       "    .dataframe tbody tr th {\n",
       "        vertical-align: top;\n",
       "    }\n",
       "\n",
       "    .dataframe thead th {\n",
       "        text-align: right;\n",
       "    }\n",
       "</style>\n",
       "<table border=\"1\" class=\"dataframe\">\n",
       "  <thead>\n",
       "    <tr style=\"text-align: right;\">\n",
       "      <th></th>\n",
       "      <th>fuel_code</th>\n",
       "      <th>station_name</th>\n",
       "      <th>address</th>\n",
       "      <th>city</th>\n",
       "      <th>state</th>\n",
       "      <th>zip</th>\n",
       "      <th>group_access_code</th>\n",
       "      <th>level1_evse_num</th>\n",
       "      <th>level2_evse_num</th>\n",
       "      <th>ev_dc_fast_count</th>\n",
       "      <th>ev_network</th>\n",
       "      <th>lat</th>\n",
       "      <th>long</th>\n",
       "      <th>update_date</th>\n",
       "      <th>open_date</th>\n",
       "      <th>connector_type</th>\n",
       "      <th>pricing</th>\n",
       "      <th>year_opened</th>\n",
       "      <th>total_chargers</th>\n",
       "      <th>rolling_total_chargers</th>\n",
       "    </tr>\n",
       "  </thead>\n",
       "  <tbody>\n",
       "    <tr>\n",
       "      <th>0</th>\n",
       "      <td>ELEC</td>\n",
       "      <td>Los Angeles Convention Center</td>\n",
       "      <td>1201 S Figueroa St</td>\n",
       "      <td>Los Angeles</td>\n",
       "      <td>CA</td>\n",
       "      <td>90015</td>\n",
       "      <td>Public</td>\n",
       "      <td>0</td>\n",
       "      <td>12</td>\n",
       "      <td>0</td>\n",
       "      <td>Non-Networked</td>\n",
       "      <td>34.040539</td>\n",
       "      <td>-118.271387</td>\n",
       "      <td>2021-03-11</td>\n",
       "      <td>1995-08-30</td>\n",
       "      <td>J1772</td>\n",
       "      <td>Cost</td>\n",
       "      <td>1995</td>\n",
       "      <td>12</td>\n",
       "      <td>12</td>\n",
       "    </tr>\n",
       "    <tr>\n",
       "      <th>1</th>\n",
       "      <td>ELEC</td>\n",
       "      <td>State Capitol Parking Garage</td>\n",
       "      <td>1303 10th St</td>\n",
       "      <td>Sacramento</td>\n",
       "      <td>CA</td>\n",
       "      <td>95814</td>\n",
       "      <td>Private</td>\n",
       "      <td>0</td>\n",
       "      <td>9</td>\n",
       "      <td>0</td>\n",
       "      <td>Non-Networked</td>\n",
       "      <td>38.576769</td>\n",
       "      <td>-121.495022</td>\n",
       "      <td>2021-03-11</td>\n",
       "      <td>1996-10-15</td>\n",
       "      <td>J1772</td>\n",
       "      <td>Cost</td>\n",
       "      <td>1996</td>\n",
       "      <td>9</td>\n",
       "      <td>21</td>\n",
       "    </tr>\n",
       "  </tbody>\n",
       "</table>\n",
       "</div>"
      ],
      "text/plain": [
       "  fuel_code                   station_name             address         city  \\\n",
       "0      ELEC  Los Angeles Convention Center  1201 S Figueroa St  Los Angeles   \n",
       "1      ELEC   State Capitol Parking Garage        1303 10th St   Sacramento   \n",
       "\n",
       "  state    zip group_access_code  level1_evse_num  level2_evse_num  \\\n",
       "0    CA  90015            Public                0               12   \n",
       "1    CA  95814           Private                0                9   \n",
       "\n",
       "   ev_dc_fast_count     ev_network        lat        long update_date  \\\n",
       "0                 0  Non-Networked  34.040539 -118.271387  2021-03-11   \n",
       "1                 0  Non-Networked  38.576769 -121.495022  2021-03-11   \n",
       "\n",
       "   open_date connector_type pricing  year_opened  total_chargers  \\\n",
       "0 1995-08-30          J1772    Cost         1995              12   \n",
       "1 1996-10-15          J1772    Cost         1996               9   \n",
       "\n",
       "   rolling_total_chargers  \n",
       "0                      12  \n",
       "1                      21  "
      ]
     },
     "execution_count": 4,
     "metadata": {},
     "output_type": "execute_result"
    }
   ],
   "source": [
    "ev.head(2)"
   ]
  },
  {
   "cell_type": "markdown",
   "id": "c719f7aa",
   "metadata": {},
   "source": [
    "### Initial Plots:\n",
    "To gain a visual understanding of the overall dataset"
   ]
  },
  {
   "cell_type": "code",
   "execution_count": null,
   "id": "0ed3a08d",
   "metadata": {},
   "outputs": [],
   "source": [
    "plt.figure(figsize=(11,8))\n",
    "sns.scatterplot(x='open_date', y='total_chargers', data=ev)\n",
    "plt.title('Scatter Plot of the Number of New Chargers Installed by Open Date')\n",
    "plt.xlabel('Charger Station Open Date')\n",
    "plt.ylabel('Number of Chargers Installed')\n",
    "plt.show()"
   ]
  },
  {
   "cell_type": "code",
   "execution_count": null,
   "id": "af452d81",
   "metadata": {},
   "outputs": [],
   "source": [
    "plt.figure(figsize=(11,8))\n",
    "sns.scatterplot(x='long', y='lat',hue='group_access_code', data=ev)\n",
    "plt.title('Plot of EV Charger Location')\n",
    "plt.xlabel('Longitude')\n",
    "plt.ylabel('Latitude')\n",
    "plt.legend(title='Access')\n",
    "plt.show()"
   ]
  },
  {
   "cell_type": "code",
   "execution_count": null,
   "id": "ea93450c",
   "metadata": {},
   "outputs": [],
   "source": [
    "plt.figure(figsize=(16,8))\n",
    "sns.lineplot(x='open_date', y='rolling_total_chargers', data=ev)\n",
    "plt.title('Plot of the Sum of New Chargers over Time')\n",
    "plt.xlabel('Charger Station Open Date')\n",
    "plt.ylabel('Sum of Chargers Installed')\n",
    "plt.show()"
   ]
  },
  {
   "cell_type": "markdown",
   "id": "91fe3076",
   "metadata": {},
   "source": [
    "### Exploration:"
   ]
  },
  {
   "cell_type": "markdown",
   "id": "1615681e",
   "metadata": {},
   "source": [
    "##### Data Split:"
   ]
  },
  {
   "cell_type": "code",
   "execution_count": 5,
   "id": "1883e70b",
   "metadata": {},
   "outputs": [],
   "source": [
    "ev = ev[['open_date', 'total_chargers']]\n"
   ]
  },
  {
   "cell_type": "code",
   "execution_count": 6,
   "id": "f55b36b1",
   "metadata": {},
   "outputs": [
    {
     "data": {
      "text/html": [
       "<div>\n",
       "<style scoped>\n",
       "    .dataframe tbody tr th:only-of-type {\n",
       "        vertical-align: middle;\n",
       "    }\n",
       "\n",
       "    .dataframe tbody tr th {\n",
       "        vertical-align: top;\n",
       "    }\n",
       "\n",
       "    .dataframe thead th {\n",
       "        text-align: right;\n",
       "    }\n",
       "</style>\n",
       "<table border=\"1\" class=\"dataframe\">\n",
       "  <thead>\n",
       "    <tr style=\"text-align: right;\">\n",
       "      <th></th>\n",
       "      <th>open_date</th>\n",
       "      <th>total_chargers</th>\n",
       "    </tr>\n",
       "  </thead>\n",
       "  <tbody>\n",
       "    <tr>\n",
       "      <th>0</th>\n",
       "      <td>1995-08-30</td>\n",
       "      <td>12</td>\n",
       "    </tr>\n",
       "    <tr>\n",
       "      <th>1</th>\n",
       "      <td>1996-10-15</td>\n",
       "      <td>9</td>\n",
       "    </tr>\n",
       "    <tr>\n",
       "      <th>2</th>\n",
       "      <td>1996-10-15</td>\n",
       "      <td>3</td>\n",
       "    </tr>\n",
       "    <tr>\n",
       "      <th>3</th>\n",
       "      <td>1997-07-30</td>\n",
       "      <td>1</td>\n",
       "    </tr>\n",
       "    <tr>\n",
       "      <th>4</th>\n",
       "      <td>1997-08-30</td>\n",
       "      <td>3</td>\n",
       "    </tr>\n",
       "  </tbody>\n",
       "</table>\n",
       "</div>"
      ],
      "text/plain": [
       "   open_date  total_chargers\n",
       "0 1995-08-30              12\n",
       "1 1996-10-15               9\n",
       "2 1996-10-15               3\n",
       "3 1997-07-30               1\n",
       "4 1997-08-30               3"
      ]
     },
     "execution_count": 6,
     "metadata": {},
     "output_type": "execute_result"
    }
   ],
   "source": [
    "ev.head()"
   ]
  },
  {
   "cell_type": "code",
   "execution_count": 7,
   "id": "29464f28",
   "metadata": {},
   "outputs": [
    {
     "name": "stdout",
     "output_type": "stream",
     "text": [
      "<class 'pandas.core.frame.DataFrame'>\n",
      "RangeIndex: 47006 entries, 0 to 47005\n",
      "Data columns (total 2 columns):\n",
      " #   Column          Non-Null Count  Dtype         \n",
      "---  ------          --------------  -----         \n",
      " 0   open_date       47006 non-null  datetime64[ns]\n",
      " 1   total_chargers  47006 non-null  int64         \n",
      "dtypes: datetime64[ns](1), int64(1)\n",
      "memory usage: 734.6 KB\n"
     ]
    }
   ],
   "source": [
    "ev.info()"
   ]
  },
  {
   "cell_type": "code",
   "execution_count": 8,
   "id": "92682d49",
   "metadata": {},
   "outputs": [],
   "source": [
    "ev = ev.set_index('open_date')"
   ]
  },
  {
   "cell_type": "code",
   "execution_count": 9,
   "id": "822a27fd",
   "metadata": {},
   "outputs": [],
   "source": [
    "ev = ev.resample('6M').sum()"
   ]
  },
  {
   "cell_type": "code",
   "execution_count": 10,
   "id": "b13134eb",
   "metadata": {},
   "outputs": [
    {
     "data": {
      "text/html": [
       "<div>\n",
       "<style scoped>\n",
       "    .dataframe tbody tr th:only-of-type {\n",
       "        vertical-align: middle;\n",
       "    }\n",
       "\n",
       "    .dataframe tbody tr th {\n",
       "        vertical-align: top;\n",
       "    }\n",
       "\n",
       "    .dataframe thead th {\n",
       "        text-align: right;\n",
       "    }\n",
       "</style>\n",
       "<table border=\"1\" class=\"dataframe\">\n",
       "  <thead>\n",
       "    <tr style=\"text-align: right;\">\n",
       "      <th></th>\n",
       "      <th>total_chargers</th>\n",
       "    </tr>\n",
       "    <tr>\n",
       "      <th>open_date</th>\n",
       "      <th></th>\n",
       "    </tr>\n",
       "  </thead>\n",
       "  <tbody>\n",
       "    <tr>\n",
       "      <th>1995-08-31</th>\n",
       "      <td>12</td>\n",
       "    </tr>\n",
       "    <tr>\n",
       "      <th>1996-02-29</th>\n",
       "      <td>0</td>\n",
       "    </tr>\n",
       "    <tr>\n",
       "      <th>1996-08-31</th>\n",
       "      <td>0</td>\n",
       "    </tr>\n",
       "    <tr>\n",
       "      <th>1997-02-28</th>\n",
       "      <td>12</td>\n",
       "    </tr>\n",
       "    <tr>\n",
       "      <th>1997-08-31</th>\n",
       "      <td>30</td>\n",
       "    </tr>\n",
       "  </tbody>\n",
       "</table>\n",
       "</div>"
      ],
      "text/plain": [
       "            total_chargers\n",
       "open_date                 \n",
       "1995-08-31              12\n",
       "1996-02-29               0\n",
       "1996-08-31               0\n",
       "1997-02-28              12\n",
       "1997-08-31              30"
      ]
     },
     "execution_count": 10,
     "metadata": {},
     "output_type": "execute_result"
    }
   ],
   "source": [
    "ev.head()"
   ]
  },
  {
   "cell_type": "code",
   "execution_count": 11,
   "id": "4e936f16",
   "metadata": {},
   "outputs": [],
   "source": [
    "ev = ev['2010':]"
   ]
  },
  {
   "cell_type": "code",
   "execution_count": 12,
   "id": "9b5ac24c",
   "metadata": {},
   "outputs": [
    {
     "data": {
      "text/plain": [
       "<AxesSubplot:xlabel='open_date'>"
      ]
     },
     "execution_count": 12,
     "metadata": {},
     "output_type": "execute_result"
    },
    {
     "data": {
      "image/png": "[encoded data removed]",
      "text/plain": [
       "<Figure size 432x288 with 1 Axes>"
      ]
     },
     "metadata": {
      "needs_background": "light"
     },
     "output_type": "display_data"
    }
   ],
   "source": [
    "ev.plot()"
   ]
  },
  {
   "cell_type": "code",
   "execution_count": 13,
   "id": "1865483a",
   "metadata": {},
   "outputs": [],
   "source": [
    "# compute num of rows that are 50% of total rows and assign to variable train_size\n",
    "train_size = int(len(ev) * .5)\n",
    "\n",
    "# compute num of rows that are 30% of total rows and assign to variable validate_size\n",
    "validate_size = int(len(ev) * .3)\n",
    "\n",
    "# make test_size the number of rows remaining (test_size = total # of rows - train_size - validate_size)\n",
    "test_size = int(len(ev) - train_size - validate_size)\n",
    "\n",
    "# compute the row number at which the switch from validate to test happens. \n",
    "validate_end_index = train_size + validate_size\n",
    "\n",
    "# split into train, validation, test\n",
    "train = ev[: train_size]\n",
    "validate = ev[train_size : validate_end_index]\n",
    "test = ev[validate_end_index : ]"
   ]
  },
  {
   "cell_type": "code",
   "execution_count": 14,
   "id": "b3b16e6f",
   "metadata": {},
   "outputs": [
    {
     "name": "stdout",
     "output_type": "stream",
     "text": [
      "Train: 12  Validate: 7  Test: 5\n"
     ]
    }
   ],
   "source": [
    "# To see the split:\n",
    "print('Train:', len(train), ' Validate:', len(validate), ' Test:', len(test))"
   ]
  },
  {
   "cell_type": "code",
   "execution_count": null,
   "id": "dc3e3591",
   "metadata": {},
   "outputs": [],
   "source": [
    "train"
   ]
  },
  {
   "cell_type": "code",
   "execution_count": null,
   "id": "81959eac",
   "metadata": {},
   "outputs": [],
   "source": [
    "plt.figure(figsize=(16,8))\n",
    "sns.lineplot(x='open_date', y='rolling_total_chargers', data=train)\n",
    "sns.lineplot(x='open_date', y='rolling_total_chargers', data=validate)\n",
    "sns.lineplot(x='open_date', y='rolling_total_chargers', data=test)\n",
    "plt.title('Plot of the Sum of New Chargers over Time')\n",
    "plt.xlabel('Charger Station Open Date')\n",
    "plt.ylabel('Sum of Chargers Installed')\n",
    "plt.show()"
   ]
  },
  {
   "cell_type": "code",
   "execution_count": 15,
   "id": "a0720160",
   "metadata": {},
   "outputs": [
    {
     "data": {
      "image/png": "[encoded data removed]",
      "text/plain": [
       "<Figure size 1152x576 with 1 Axes>"
      ]
     },
     "metadata": {
      "needs_background": "light"
     },
     "output_type": "display_data"
    }
   ],
   "source": [
    "plt.figure(figsize=(16,8))\n",
    "sns.scatterplot(x='open_date', y='total_chargers', data=train)\n",
    "sns.scatterplot(x='open_date', y='total_chargers', data=validate)\n",
    "sns.scatterplot(x='open_date', y='total_chargers', data=test)\n",
    "plt.title('Scatter Plot of the Number of New Chargers Installed by Open Date')\n",
    "plt.xlabel('Charger Station Open Date')\n",
    "plt.ylabel('Number of Chargers Installed')\n",
    "plt.show()"
   ]
  },
  {
   "cell_type": "markdown",
   "id": "75964a3c",
   "metadata": {},
   "source": [
    "##### Findings: \n",
    "Most of the EV charging stations within the US have been added since 2010 with an exponential increase over the last five years."
   ]
  },
  {
   "cell_type": "code",
   "execution_count": null,
   "id": "f083625b",
   "metadata": {},
   "outputs": [],
   "source": [
    "#train = train.set_index('open_date')\n",
    "#validate = validate.set_index('open_date')\n",
    "#test = test.set_index('open_date')"
   ]
  },
  {
   "cell_type": "code",
   "execution_count": 30,
   "id": "238752a6",
   "metadata": {},
   "outputs": [
    {
     "data": {
      "image/png": "[encoded data removed]",
      "text/plain": [
       "<Figure size 432x288 with 1 Axes>"
      ]
     },
     "metadata": {
      "needs_background": "light"
     },
     "output_type": "display_data"
    }
   ],
   "source": [
    "pd.plotting.autocorrelation_plot(train.resample('M').mean())\n",
    "plt.show()"
   ]
  },
  {
   "cell_type": "markdown",
   "id": "fa3bebae",
   "metadata": {},
   "source": [
    "### Modeling:"
   ]
  },
  {
   "cell_type": "code",
   "execution_count": null,
   "id": "babb0a72",
   "metadata": {},
   "outputs": [],
   "source": []
  },
  {
   "cell_type": "code",
   "execution_count": null,
   "id": "ee46d647",
   "metadata": {},
   "outputs": [],
   "source": [
    "roller = train['rolling_total_chargers'].rolling(60).mean()\n",
    "roller = pd.DataFrame(roller)\n",
    "compare_roller = pd.concat([train.index, roller], axis=1)\n",
    "compare_roller"
   ]
  },
  {
   "cell_type": "code",
   "execution_count": null,
   "id": "9c1f47b7",
   "metadata": {},
   "outputs": [],
   "source": [
    "# Moving Average Plot\n",
    "plt.figure(figsize=(16,8))\n",
    "sns.lineplot(x=train.index, y='rolling_total_chargers', data=train)\n",
    "sns.lineplot(x='open_date', y='rolling_total_chargers', data=compare_roller)\n",
    "\n",
    "plt.title('Plot of the Sum of New Chargers over Time')\n",
    "plt.xlabel('Charger Station Open Date')\n",
    "plt.ylabel('Sum of Chargers Installed')\n",
    "plt.show()"
   ]
  },
  {
   "cell_type": "code",
   "execution_count": 16,
   "id": "856ddd2b",
   "metadata": {},
   "outputs": [
    {
     "data": {
      "text/html": [
       "<div>\n",
       "<style scoped>\n",
       "    .dataframe tbody tr th:only-of-type {\n",
       "        vertical-align: middle;\n",
       "    }\n",
       "\n",
       "    .dataframe tbody tr th {\n",
       "        vertical-align: top;\n",
       "    }\n",
       "\n",
       "    .dataframe thead th {\n",
       "        text-align: right;\n",
       "    }\n",
       "</style>\n",
       "<table border=\"1\" class=\"dataframe\">\n",
       "  <thead>\n",
       "    <tr style=\"text-align: right;\">\n",
       "      <th></th>\n",
       "      <th>total_chargers</th>\n",
       "    </tr>\n",
       "    <tr>\n",
       "      <th>open_date</th>\n",
       "      <th></th>\n",
       "    </tr>\n",
       "  </thead>\n",
       "  <tbody>\n",
       "    <tr>\n",
       "      <th>2010-02-28</th>\n",
       "      <td>39</td>\n",
       "    </tr>\n",
       "    <tr>\n",
       "      <th>2010-08-31</th>\n",
       "      <td>93</td>\n",
       "    </tr>\n",
       "    <tr>\n",
       "      <th>2011-02-28</th>\n",
       "      <td>295</td>\n",
       "    </tr>\n",
       "    <tr>\n",
       "      <th>2011-08-31</th>\n",
       "      <td>1296</td>\n",
       "    </tr>\n",
       "    <tr>\n",
       "      <th>2012-02-29</th>\n",
       "      <td>2266</td>\n",
       "    </tr>\n",
       "  </tbody>\n",
       "</table>\n",
       "</div>"
      ],
      "text/plain": [
       "            total_chargers\n",
       "open_date                 \n",
       "2010-02-28              39\n",
       "2010-08-31              93\n",
       "2011-02-28             295\n",
       "2011-08-31            1296\n",
       "2012-02-29            2266"
      ]
     },
     "execution_count": 16,
     "metadata": {},
     "output_type": "execute_result"
    }
   ],
   "source": [
    "train.head()"
   ]
  },
  {
   "cell_type": "code",
   "execution_count": 21,
   "id": "6964e1c5",
   "metadata": {},
   "outputs": [],
   "source": [
    "model = Holt(train['total_chargers'], exponential = True)\n",
    "model = model.fit(smoothing_level = .1, \n",
    "                  smoothing_slope = .1, \n",
    "                  optimized = False)\n",
    "yhat_items = model.predict(start = validate.index[0], \n",
    "                           end = validate.index[-1])\n",
    "yhat = round(yhat_items, 2)"
   ]
  },
  {
   "cell_type": "code",
   "execution_count": 27,
   "id": "ece361c6",
   "metadata": {},
   "outputs": [],
   "source": [
    "yhat = pd.DataFrame(yhat)"
   ]
  },
  {
   "cell_type": "code",
   "execution_count": 29,
   "id": "19f25440",
   "metadata": {},
   "outputs": [
    {
     "data": {
      "text/html": [
       "<div>\n",
       "<style scoped>\n",
       "    .dataframe tbody tr th:only-of-type {\n",
       "        vertical-align: middle;\n",
       "    }\n",
       "\n",
       "    .dataframe tbody tr th {\n",
       "        vertical-align: top;\n",
       "    }\n",
       "\n",
       "    .dataframe thead th {\n",
       "        text-align: right;\n",
       "    }\n",
       "</style>\n",
       "<table border=\"1\" class=\"dataframe\">\n",
       "  <thead>\n",
       "    <tr style=\"text-align: right;\">\n",
       "      <th></th>\n",
       "      <th>0</th>\n",
       "    </tr>\n",
       "  </thead>\n",
       "  <tbody>\n",
       "    <tr>\n",
       "      <th>2016-02-29</th>\n",
       "      <td>9.012771e+05</td>\n",
       "    </tr>\n",
       "    <tr>\n",
       "      <th>2016-08-31</th>\n",
       "      <td>1.983490e+06</td>\n",
       "    </tr>\n",
       "    <tr>\n",
       "      <th>2017-02-28</th>\n",
       "      <td>4.365178e+06</td>\n",
       "    </tr>\n",
       "    <tr>\n",
       "      <th>2017-08-31</th>\n",
       "      <td>9.606688e+06</td>\n",
       "    </tr>\n",
       "    <tr>\n",
       "      <th>2018-02-28</th>\n",
       "      <td>2.114197e+07</td>\n",
       "    </tr>\n",
       "    <tr>\n",
       "      <th>2018-08-31</th>\n",
       "      <td>4.652831e+07</td>\n",
       "    </tr>\n",
       "    <tr>\n",
       "      <th>2019-02-28</th>\n",
       "      <td>1.023974e+08</td>\n",
       "    </tr>\n",
       "  </tbody>\n",
       "</table>\n",
       "</div>"
      ],
      "text/plain": [
       "                       0\n",
       "2016-02-29  9.012771e+05\n",
       "2016-08-31  1.983490e+06\n",
       "2017-02-28  4.365178e+06\n",
       "2017-08-31  9.606688e+06\n",
       "2018-02-28  2.114197e+07\n",
       "2018-08-31  4.652831e+07\n",
       "2019-02-28  1.023974e+08"
      ]
     },
     "execution_count": 29,
     "metadata": {},
     "output_type": "execute_result"
    }
   ],
   "source": [
    "yhat"
   ]
  },
  {
   "cell_type": "code",
   "execution_count": 28,
   "id": "c9dd3a0a",
   "metadata": {},
   "outputs": [
    {
     "ename": "ValueError",
     "evalue": "Could not interpret value `open_date` for parameter `x`",
     "output_type": "error",
     "traceback": [
      "\u001b[0;31m---------------------------------------------------------------------------\u001b[0m",
      "\u001b[0;31mValueError\u001b[0m                                Traceback (most recent call last)",
      "\u001b[0;32m<ipython-input-28-70c4edd3b639>\u001b[0m in \u001b[0;36m<module>\u001b[0;34m\u001b[0m\n\u001b[1;32m      3\u001b[0m \u001b[0msns\u001b[0m\u001b[0;34m.\u001b[0m\u001b[0mlineplot\u001b[0m\u001b[0;34m(\u001b[0m\u001b[0mx\u001b[0m\u001b[0;34m=\u001b[0m\u001b[0;34m'open_date'\u001b[0m\u001b[0;34m,\u001b[0m \u001b[0my\u001b[0m\u001b[0;34m=\u001b[0m\u001b[0;34m'total_chargers'\u001b[0m\u001b[0;34m,\u001b[0m \u001b[0mdata\u001b[0m\u001b[0;34m=\u001b[0m\u001b[0mtrain\u001b[0m\u001b[0;34m)\u001b[0m\u001b[0;34m\u001b[0m\u001b[0;34m\u001b[0m\u001b[0m\n\u001b[1;32m      4\u001b[0m \u001b[0msns\u001b[0m\u001b[0;34m.\u001b[0m\u001b[0mlineplot\u001b[0m\u001b[0;34m(\u001b[0m\u001b[0mx\u001b[0m\u001b[0;34m=\u001b[0m\u001b[0;34m'open_date'\u001b[0m\u001b[0;34m,\u001b[0m \u001b[0my\u001b[0m\u001b[0;34m=\u001b[0m\u001b[0;34m'total_chargers'\u001b[0m\u001b[0;34m,\u001b[0m \u001b[0mdata\u001b[0m\u001b[0;34m=\u001b[0m\u001b[0mvalidate\u001b[0m\u001b[0;34m)\u001b[0m\u001b[0;34m\u001b[0m\u001b[0;34m\u001b[0m\u001b[0m\n\u001b[0;32m----> 5\u001b[0;31m \u001b[0msns\u001b[0m\u001b[0;34m.\u001b[0m\u001b[0mlineplot\u001b[0m\u001b[0;34m(\u001b[0m\u001b[0mx\u001b[0m\u001b[0;34m=\u001b[0m\u001b[0;34m'open_date'\u001b[0m\u001b[0;34m,\u001b[0m \u001b[0my\u001b[0m\u001b[0;34m=\u001b[0m\u001b[0;34m'total_chargers'\u001b[0m\u001b[0;34m,\u001b[0m \u001b[0mdata\u001b[0m\u001b[0;34m=\u001b[0m\u001b[0myhat\u001b[0m\u001b[0;34m)\u001b[0m\u001b[0;34m\u001b[0m\u001b[0;34m\u001b[0m\u001b[0m\n\u001b[0m\u001b[1;32m      6\u001b[0m \u001b[0;34m\u001b[0m\u001b[0m\n\u001b[1;32m      7\u001b[0m \u001b[0mplt\u001b[0m\u001b[0;34m.\u001b[0m\u001b[0mtitle\u001b[0m\u001b[0;34m(\u001b[0m\u001b[0;34m'Plot of the Sum of New Chargers over Time'\u001b[0m\u001b[0;34m)\u001b[0m\u001b[0;34m\u001b[0m\u001b[0;34m\u001b[0m\u001b[0m\n",
      "\u001b[0;32m/usr/local/anaconda3/lib/python3.8/site-packages/seaborn/_decorators.py\u001b[0m in \u001b[0;36minner_f\u001b[0;34m(*args, **kwargs)\u001b[0m\n\u001b[1;32m     44\u001b[0m             )\n\u001b[1;32m     45\u001b[0m         \u001b[0mkwargs\u001b[0m\u001b[0;34m.\u001b[0m\u001b[0mupdate\u001b[0m\u001b[0;34m(\u001b[0m\u001b[0;34m{\u001b[0m\u001b[0mk\u001b[0m\u001b[0;34m:\u001b[0m \u001b[0marg\u001b[0m \u001b[0;32mfor\u001b[0m \u001b[0mk\u001b[0m\u001b[0;34m,\u001b[0m \u001b[0marg\u001b[0m \u001b[0;32min\u001b[0m \u001b[0mzip\u001b[0m\u001b[0;34m(\u001b[0m\u001b[0msig\u001b[0m\u001b[0;34m.\u001b[0m\u001b[0mparameters\u001b[0m\u001b[0;34m,\u001b[0m \u001b[0margs\u001b[0m\u001b[0;34m)\u001b[0m\u001b[0;34m}\u001b[0m\u001b[0;34m)\u001b[0m\u001b[0;34m\u001b[0m\u001b[0;34m\u001b[0m\u001b[0m\n\u001b[0;32m---> 46\u001b[0;31m         \u001b[0;32mreturn\u001b[0m \u001b[0mf\u001b[0m\u001b[0;34m(\u001b[0m\u001b[0;34m**\u001b[0m\u001b[0mkwargs\u001b[0m\u001b[0;34m)\u001b[0m\u001b[0;34m\u001b[0m\u001b[0;34m\u001b[0m\u001b[0m\n\u001b[0m\u001b[1;32m     47\u001b[0m     \u001b[0;32mreturn\u001b[0m \u001b[0minner_f\u001b[0m\u001b[0;34m\u001b[0m\u001b[0;34m\u001b[0m\u001b[0m\n\u001b[1;32m     48\u001b[0m \u001b[0;34m\u001b[0m\u001b[0m\n",
      "\u001b[0;32m/usr/local/anaconda3/lib/python3.8/site-packages/seaborn/relational.py\u001b[0m in \u001b[0;36mlineplot\u001b[0;34m(x, y, hue, size, style, data, palette, hue_order, hue_norm, sizes, size_order, size_norm, dashes, markers, style_order, units, estimator, ci, n_boot, seed, sort, err_style, err_kws, legend, ax, **kwargs)\u001b[0m\n\u001b[1;32m    683\u001b[0m \u001b[0;34m\u001b[0m\u001b[0m\n\u001b[1;32m    684\u001b[0m     \u001b[0mvariables\u001b[0m \u001b[0;34m=\u001b[0m \u001b[0m_LinePlotter\u001b[0m\u001b[0;34m.\u001b[0m\u001b[0mget_semantics\u001b[0m\u001b[0;34m(\u001b[0m\u001b[0mlocals\u001b[0m\u001b[0;34m(\u001b[0m\u001b[0;34m)\u001b[0m\u001b[0;34m)\u001b[0m\u001b[0;34m\u001b[0m\u001b[0;34m\u001b[0m\u001b[0m\n\u001b[0;32m--> 685\u001b[0;31m     p = _LinePlotter(\n\u001b[0m\u001b[1;32m    686\u001b[0m         \u001b[0mdata\u001b[0m\u001b[0;34m=\u001b[0m\u001b[0mdata\u001b[0m\u001b[0;34m,\u001b[0m \u001b[0mvariables\u001b[0m\u001b[0;34m=\u001b[0m\u001b[0mvariables\u001b[0m\u001b[0;34m,\u001b[0m\u001b[0;34m\u001b[0m\u001b[0;34m\u001b[0m\u001b[0m\n\u001b[1;32m    687\u001b[0m         \u001b[0mestimator\u001b[0m\u001b[0;34m=\u001b[0m\u001b[0mestimator\u001b[0m\u001b[0;34m,\u001b[0m \u001b[0mci\u001b[0m\u001b[0;34m=\u001b[0m\u001b[0mci\u001b[0m\u001b[0;34m,\u001b[0m \u001b[0mn_boot\u001b[0m\u001b[0;34m=\u001b[0m\u001b[0mn_boot\u001b[0m\u001b[0;34m,\u001b[0m \u001b[0mseed\u001b[0m\u001b[0;34m=\u001b[0m\u001b[0mseed\u001b[0m\u001b[0;34m,\u001b[0m\u001b[0;34m\u001b[0m\u001b[0;34m\u001b[0m\u001b[0m\n",
      "\u001b[0;32m/usr/local/anaconda3/lib/python3.8/site-packages/seaborn/relational.py\u001b[0m in \u001b[0;36m__init__\u001b[0;34m(self, data, variables, estimator, ci, n_boot, seed, sort, err_style, err_kws, legend)\u001b[0m\n\u001b[1;32m    365\u001b[0m         )\n\u001b[1;32m    366\u001b[0m \u001b[0;34m\u001b[0m\u001b[0m\n\u001b[0;32m--> 367\u001b[0;31m         \u001b[0msuper\u001b[0m\u001b[0;34m(\u001b[0m\u001b[0;34m)\u001b[0m\u001b[0;34m.\u001b[0m\u001b[0m__init__\u001b[0m\u001b[0;34m(\u001b[0m\u001b[0mdata\u001b[0m\u001b[0;34m=\u001b[0m\u001b[0mdata\u001b[0m\u001b[0;34m,\u001b[0m \u001b[0mvariables\u001b[0m\u001b[0;34m=\u001b[0m\u001b[0mvariables\u001b[0m\u001b[0;34m)\u001b[0m\u001b[0;34m\u001b[0m\u001b[0;34m\u001b[0m\u001b[0m\n\u001b[0m\u001b[1;32m    368\u001b[0m \u001b[0;34m\u001b[0m\u001b[0m\n\u001b[1;32m    369\u001b[0m         \u001b[0mself\u001b[0m\u001b[0;34m.\u001b[0m\u001b[0mestimator\u001b[0m \u001b[0;34m=\u001b[0m \u001b[0mestimator\u001b[0m\u001b[0;34m\u001b[0m\u001b[0;34m\u001b[0m\u001b[0m\n",
      "\u001b[0;32m/usr/local/anaconda3/lib/python3.8/site-packages/seaborn/_core.py\u001b[0m in \u001b[0;36m__init__\u001b[0;34m(self, data, variables)\u001b[0m\n\u001b[1;32m    602\u001b[0m     \u001b[0;32mdef\u001b[0m \u001b[0m__init__\u001b[0m\u001b[0;34m(\u001b[0m\u001b[0mself\u001b[0m\u001b[0;34m,\u001b[0m \u001b[0mdata\u001b[0m\u001b[0;34m=\u001b[0m\u001b[0;32mNone\u001b[0m\u001b[0;34m,\u001b[0m \u001b[0mvariables\u001b[0m\u001b[0;34m=\u001b[0m\u001b[0;34m{\u001b[0m\u001b[0;34m}\u001b[0m\u001b[0;34m)\u001b[0m\u001b[0;34m:\u001b[0m\u001b[0;34m\u001b[0m\u001b[0;34m\u001b[0m\u001b[0m\n\u001b[1;32m    603\u001b[0m \u001b[0;34m\u001b[0m\u001b[0m\n\u001b[0;32m--> 604\u001b[0;31m         \u001b[0mself\u001b[0m\u001b[0;34m.\u001b[0m\u001b[0massign_variables\u001b[0m\u001b[0;34m(\u001b[0m\u001b[0mdata\u001b[0m\u001b[0;34m,\u001b[0m \u001b[0mvariables\u001b[0m\u001b[0;34m)\u001b[0m\u001b[0;34m\u001b[0m\u001b[0;34m\u001b[0m\u001b[0m\n\u001b[0m\u001b[1;32m    605\u001b[0m \u001b[0;34m\u001b[0m\u001b[0m\n\u001b[1;32m    606\u001b[0m         \u001b[0;32mfor\u001b[0m \u001b[0mvar\u001b[0m\u001b[0;34m,\u001b[0m \u001b[0mcls\u001b[0m \u001b[0;32min\u001b[0m \u001b[0mself\u001b[0m\u001b[0;34m.\u001b[0m\u001b[0m_semantic_mappings\u001b[0m\u001b[0;34m.\u001b[0m\u001b[0mitems\u001b[0m\u001b[0;34m(\u001b[0m\u001b[0;34m)\u001b[0m\u001b[0;34m:\u001b[0m\u001b[0;34m\u001b[0m\u001b[0;34m\u001b[0m\u001b[0m\n",
      "\u001b[0;32m/usr/local/anaconda3/lib/python3.8/site-packages/seaborn/_core.py\u001b[0m in \u001b[0;36massign_variables\u001b[0;34m(self, data, variables)\u001b[0m\n\u001b[1;32m    665\u001b[0m         \u001b[0;32melse\u001b[0m\u001b[0;34m:\u001b[0m\u001b[0;34m\u001b[0m\u001b[0;34m\u001b[0m\u001b[0m\n\u001b[1;32m    666\u001b[0m             \u001b[0mself\u001b[0m\u001b[0;34m.\u001b[0m\u001b[0minput_format\u001b[0m \u001b[0;34m=\u001b[0m \u001b[0;34m\"long\"\u001b[0m\u001b[0;34m\u001b[0m\u001b[0;34m\u001b[0m\u001b[0m\n\u001b[0;32m--> 667\u001b[0;31m             plot_data, variables = self._assign_variables_longform(\n\u001b[0m\u001b[1;32m    668\u001b[0m                 \u001b[0mdata\u001b[0m\u001b[0;34m,\u001b[0m \u001b[0;34m**\u001b[0m\u001b[0mvariables\u001b[0m\u001b[0;34m,\u001b[0m\u001b[0;34m\u001b[0m\u001b[0;34m\u001b[0m\u001b[0m\n\u001b[1;32m    669\u001b[0m             )\n",
      "\u001b[0;32m/usr/local/anaconda3/lib/python3.8/site-packages/seaborn/_core.py\u001b[0m in \u001b[0;36m_assign_variables_longform\u001b[0;34m(self, data, **kwargs)\u001b[0m\n\u001b[1;32m    900\u001b[0m \u001b[0;34m\u001b[0m\u001b[0m\n\u001b[1;32m    901\u001b[0m                 \u001b[0merr\u001b[0m \u001b[0;34m=\u001b[0m \u001b[0;34mf\"Could not interpret value `{val}` for parameter `{key}`\"\u001b[0m\u001b[0;34m\u001b[0m\u001b[0;34m\u001b[0m\u001b[0m\n\u001b[0;32m--> 902\u001b[0;31m                 \u001b[0;32mraise\u001b[0m \u001b[0mValueError\u001b[0m\u001b[0;34m(\u001b[0m\u001b[0merr\u001b[0m\u001b[0;34m)\u001b[0m\u001b[0;34m\u001b[0m\u001b[0;34m\u001b[0m\u001b[0m\n\u001b[0m\u001b[1;32m    903\u001b[0m \u001b[0;34m\u001b[0m\u001b[0m\n\u001b[1;32m    904\u001b[0m             \u001b[0;32melse\u001b[0m\u001b[0;34m:\u001b[0m\u001b[0;34m\u001b[0m\u001b[0;34m\u001b[0m\u001b[0m\n",
      "\u001b[0;31mValueError\u001b[0m: Could not interpret value `open_date` for parameter `x`"
     ]
    },
    {
     "data": {
      "image/png": "[encoded data removed]",
      "text/plain": [
       "<Figure size 1152x576 with 1 Axes>"
      ]
     },
     "metadata": {
      "needs_background": "light"
     },
     "output_type": "display_data"
    }
   ],
   "source": [
    "# Holt Plot\n",
    "plt.figure(figsize=(16,8))\n",
    "sns.lineplot(x='open_date', y='total_chargers', data=train)\n",
    "sns.lineplot(x='open_date', y='total_chargers', data=validate)\n",
    "sns.lineplot(x='open_date', y='total_chargers', data=yhat)\n",
    "\n",
    "plt.title('Plot of the Sum of New Chargers over Time')\n",
    "plt.xlabel('Charger Station Open Date')\n",
    "plt.ylabel('Sum of Chargers Installed')\n",
    "plt.show()"
   ]
  },
  {
   "cell_type": "markdown",
   "id": "e82f4889",
   "metadata": {},
   "source": [
    "#### Previous Year"
   ]
  },
  {
   "cell_type": "code",
   "execution_count": null,
   "id": "528db03e",
   "metadata": {},
   "outputs": [],
   "source": [
    "len(validate)"
   ]
  },
  {
   "cell_type": "code",
   "execution_count": null,
   "id": "bf08ea79",
   "metadata": {},
   "outputs": [],
   "source": [
    "yhat_df = train['2015'] + train.diff(365).mean()\n",
    "yhat_df.index = validate.index"
   ]
  },
  {
   "cell_type": "code",
   "execution_count": null,
   "id": "cd173936",
   "metadata": {},
   "outputs": [],
   "source": [
    "model = Holt(train.rolling_total_chargers, exponential = True)\n",
    "# fit the model providing the alpha/smoothing level and beta/smoothing slope\n",
    "model = model.fit(smoothing_level = .1, \n",
    "                  smoothing_slope = .1,\n",
    "                  optimized = False\n",
    "                 )\n",
    "# predict/forecast providing the start and end dates\n",
    "yhat = model.predict(start = validate.index[0], end = validate.index[-1])\n",
    "\n",
    "yhat_df = round(yhat, 2)"
   ]
  },
  {
   "cell_type": "code",
   "execution_count": null,
   "id": "5f79049f",
   "metadata": {},
   "outputs": [],
   "source": []
  }
 ],
 "metadata": {
  "kernelspec": {
   "display_name": "Python 3",
   "language": "python",
   "name": "python3"
  },
  "language_info": {
   "codemirror_mode": {
    "name": "ipython",
    "version": 3
   },
   "file_extension": ".py",
   "mimetype": "text/x-python",
   "name": "python",
   "nbconvert_exporter": "python",
   "pygments_lexer": "ipython3",
   "version": "3.8.8"
  }
 },
 "nbformat": 4,
 "nbformat_minor": 5
}
