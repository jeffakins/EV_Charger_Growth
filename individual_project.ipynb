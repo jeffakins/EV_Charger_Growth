{
 "cells": [
  {
   "cell_type": "markdown",
   "id": "313e7c47",
   "metadata": {},
   "source": [
    "# Individual Project\n",
    "By Jeff Akins"
   ]
  },
  {
   "cell_type": "markdown",
   "id": "84272e6d",
   "metadata": {},
   "source": [
    "#### ![EV Charging Station](https://i.insider.com/6042a8ac44d8e300117b9655?width=1200&format=jpeg)"
   ]
  },
  {
   "cell_type": "markdown",
   "id": "7126536f",
   "metadata": {},
   "source": [
    "## Exploring the State of the Electric Vehicle Charging Network within the U.S.\n",
    "The methods of transportation are changing, not only in the United States, but globally. The EU recently proposed a mandate that all new vehicles be emissions free after 2035. Here in the U.S., the Biden administrations wants half of all new vehicles to be purely electric by 2030. Regardless of the mandates, buyers may be choosing to purchase EVs over over their traditional internal combustion engine (ICE) counterparts in the upcoming years. No longer do you have to choose between the environment or the car that you want to drive. Many EVs are surpasing comparable ICE vehicles in both speed, handling, and overall capability and new EVs are being introduced on a regular basis. \n",
    "\n",
    "So, with all of these new EV coming online, is the charging infrastructure keeping up? "
   ]
  },
  {
   "cell_type": "code",
   "execution_count": null,
   "id": "95d5a11c",
   "metadata": {},
   "outputs": [],
   "source": []
  }
 ],
 "metadata": {
  "kernelspec": {
   "display_name": "Python 3",
   "language": "python",
   "name": "python3"
  },
  "language_info": {
   "codemirror_mode": {
    "name": "ipython",
    "version": 3
   },
   "file_extension": ".py",
   "mimetype": "text/x-python",
   "name": "python",
   "nbconvert_exporter": "python",
   "pygments_lexer": "ipython3",
   "version": "3.8.8"
  }
 },
 "nbformat": 4,
 "nbformat_minor": 5
}
