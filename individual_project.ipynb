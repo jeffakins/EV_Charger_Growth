{
 "cells": [
  {
   "cell_type": "markdown",
   "id": "313e7c47",
   "metadata": {},
   "source": [
    "# Individual Project\n",
    "By Jeff Akins"
   ]
  },
  {
   "cell_type": "markdown",
   "id": "84272e6d",
   "metadata": {},
   "source": [
    "#### ![EV Charging Station](https://i.insider.com/6042a8ac44d8e300117b9655?width=1200&format=jpeg)"
   ]
  },
  {
   "attachments": {},
   "cell_type": "markdown",
   "id": "7126536f",
   "metadata": {},
   "source": [
    "## Exploring the State of the Electric Vehicle Charging Network within the U.S.\n",
    "The world's methods of transportation are evolving, not only here in the United States, but globally. The EU recently proposed a mandate that all new vehicles be emissions free after 2035. In the U.S., the Biden administrations wants half of all new vehicles to be purely electric by 2030. Regardless of the mandates, buyers may be choosing to purchase EVs over their traditional internal combustion engine (ICE) counterparts in the upcoming years. No longer do you have to choose between the environment or the car that you want to drive. Many new EVs are surpassing comparable ICE vehicles in both speed, handling, and overall capability and new models of EVs are being introduced on a regular basis.\n",
    "\n",
    "So, with all these new EV coming online, is the charging infrastructure keeping up? Buyers may be asking themselves, how many charging stations will be nearby if I need one? If I decide to go on a road trip, how difficult will it be to find an open charging station? I will try and answer these questions using a bit of machine learning to show the state of the charging networks now and the predicted growth over the next several years.\n",
    "\n",
    "So, let's begin..."
   ]
  },
  {
   "cell_type": "markdown",
   "id": "4e44e58a",
   "metadata": {},
   "source": [
    "##### Imports:"
   ]
  },
  {
   "cell_type": "code",
   "execution_count": 1,
   "id": "95d5a11c",
   "metadata": {},
   "outputs": [],
   "source": [
    "import pandas as pd\n",
    "import numpy as np\n",
    "\n",
    "from datetime import datetime\n",
    "from sklearn.metrics import mean_squared_error\n",
    "from math import sqrt\n",
    "\n",
    "import matplotlib.pyplot as plt\n",
    "import seaborn as sns\n",
    "from pandas.plotting import register_matplotlib_converters\n",
    "\n",
    "import statsmodels.api as sm\n",
    "from statsmodels.tsa.api import Holt\n",
    "\n",
    "import wrangle as w\n",
    "import warnings\n",
    "warnings.filterwarnings('ignore')"
   ]
  },
  {
   "cell_type": "markdown",
   "id": "5aae48cd",
   "metadata": {},
   "source": [
    "##### You can find the original dataset file [here](https://catalog.data.gov/dataset/alternative-fueling-station-locations-422f2/resource/341957d8-daf6-4a38-ab1d-8ec1bc21cfb9) on data.gov"
   ]
  },
  {
   "cell_type": "code",
   "execution_count": 2,
   "id": "4e68325e",
   "metadata": {},
   "outputs": [],
   "source": [
    "csv_file_name = 'alternative-fuel-stations-2021-csv-3.csv'\n",
    "ev = w.clean_ev(csv_file_name)"
   ]
  },
  {
   "cell_type": "markdown",
   "id": "f6a7e770",
   "metadata": {},
   "source": [
    "##### Data Cleaning:\n",
    "The following steps were taken to clean the data:\n",
    "- Dropped all rows that were not \"electric\" charging stations\n",
    "- Dropped all columns with over 1000 null values\n",
    "- Dropped an additional 12 columns that would not be used for this project\n",
    "- Changed the pricing column to only include 'free' or 'cost' in the rows\n",
    "- Filled the EV connector types nulls with the most common connector type of 'J1772'\n",
    "- Fill EV Network nulls with most common 'non network' label\n",
    "- Added values for 2 missing longitude values based on city location\n",
    "- Renamed columns for ease of referencing and use with pandas\n",
    "- Converted date columns to pandas datetime type\n",
    "- Added a column for year that the charging station was opened\n",
    "- Converted all 'count' columns into 'int' type and filled nulls with 0\n",
    "- Replaced 'Public w/descriptor' with just 'Public' in group_access_code column\n",
    "- Replaced 'Private w/descriptor' with just 'Private' in group_access_code column\n",
    "- Dropped stations (rows) that are labeled as 'planned' and not yet accessible\n",
    "\n",
    "Results are below:"
   ]
  },
  {
   "cell_type": "code",
   "execution_count": 3,
   "id": "5a3d9453",
   "metadata": {},
   "outputs": [
    {
     "name": "stdout",
     "output_type": "stream",
     "text": [
      "<class 'pandas.core.frame.DataFrame'>\n",
      "Int64Index: 47006 entries, 159 to 56793\n",
      "Data columns (total 18 columns):\n",
      " #   Column             Non-Null Count  Dtype         \n",
      "---  ------             --------------  -----         \n",
      " 0   fuel_code          47006 non-null  object        \n",
      " 1   station_name       47006 non-null  object        \n",
      " 2   address            47006 non-null  object        \n",
      " 3   city               47006 non-null  object        \n",
      " 4   state              47006 non-null  object        \n",
      " 5   zip                47006 non-null  object        \n",
      " 6   group_access_code  47006 non-null  object        \n",
      " 7   level1_evse_num    47006 non-null  int64         \n",
      " 8   level2_evse_num    47006 non-null  int64         \n",
      " 9   ev_dc_fast_count   47006 non-null  int64         \n",
      " 10  ev_network         47006 non-null  object        \n",
      " 11  lat                47006 non-null  float64       \n",
      " 12  long               47006 non-null  float64       \n",
      " 13  update_date        47006 non-null  datetime64[ns]\n",
      " 14  open_date          47006 non-null  datetime64[ns]\n",
      " 15  connector_type     47006 non-null  object        \n",
      " 16  pricing            47006 non-null  object        \n",
      " 17  year_opened        47006 non-null  int64         \n",
      "dtypes: datetime64[ns](2), float64(2), int64(4), object(10)\n",
      "memory usage: 6.8+ MB\n"
     ]
    }
   ],
   "source": [
    "ev.info()"
   ]
  },
  {
   "cell_type": "code",
   "execution_count": 7,
   "id": "1874c982",
   "metadata": {},
   "outputs": [
    {
     "data": {
      "text/html": [
       "<div>\n",
       "<style scoped>\n",
       "    .dataframe tbody tr th:only-of-type {\n",
       "        vertical-align: middle;\n",
       "    }\n",
       "\n",
       "    .dataframe tbody tr th {\n",
       "        vertical-align: top;\n",
       "    }\n",
       "\n",
       "    .dataframe thead th {\n",
       "        text-align: right;\n",
       "    }\n",
       "</style>\n",
       "<table border=\"1\" class=\"dataframe\">\n",
       "  <thead>\n",
       "    <tr style=\"text-align: right;\">\n",
       "      <th></th>\n",
       "      <th>fuel_code</th>\n",
       "      <th>station_name</th>\n",
       "      <th>address</th>\n",
       "      <th>city</th>\n",
       "      <th>state</th>\n",
       "      <th>zip</th>\n",
       "      <th>group_access_code</th>\n",
       "      <th>level1_evse_num</th>\n",
       "      <th>level2_evse_num</th>\n",
       "      <th>ev_dc_fast_count</th>\n",
       "      <th>ev_network</th>\n",
       "      <th>lat</th>\n",
       "      <th>long</th>\n",
       "      <th>update_date</th>\n",
       "      <th>open_date</th>\n",
       "      <th>connector_type</th>\n",
       "      <th>pricing</th>\n",
       "      <th>year_opened</th>\n",
       "    </tr>\n",
       "  </thead>\n",
       "  <tbody>\n",
       "    <tr>\n",
       "      <th>159</th>\n",
       "      <td>ELEC</td>\n",
       "      <td>LADWP - Truesdale Center</td>\n",
       "      <td>11797 Truesdale St</td>\n",
       "      <td>Sun Valley</td>\n",
       "      <td>CA</td>\n",
       "      <td>91352</td>\n",
       "      <td>Private</td>\n",
       "      <td>0</td>\n",
       "      <td>39</td>\n",
       "      <td>3</td>\n",
       "      <td>Non-Networked</td>\n",
       "      <td>34.248319</td>\n",
       "      <td>-118.387971</td>\n",
       "      <td>2021-07-14</td>\n",
       "      <td>1999-10-15</td>\n",
       "      <td>CHADEMO J1772 J1772COMBO</td>\n",
       "      <td>Cost</td>\n",
       "      <td>1999</td>\n",
       "    </tr>\n",
       "    <tr>\n",
       "      <th>160</th>\n",
       "      <td>ELEC</td>\n",
       "      <td>LADWP - West LA District Office</td>\n",
       "      <td>1394 S Sepulveda Blvd</td>\n",
       "      <td>Los Angeles</td>\n",
       "      <td>CA</td>\n",
       "      <td>90024</td>\n",
       "      <td>Private</td>\n",
       "      <td>0</td>\n",
       "      <td>4</td>\n",
       "      <td>0</td>\n",
       "      <td>Non-Networked</td>\n",
       "      <td>34.052542</td>\n",
       "      <td>-118.448504</td>\n",
       "      <td>2021-07-14</td>\n",
       "      <td>2020-02-28</td>\n",
       "      <td>J1772</td>\n",
       "      <td>Free</td>\n",
       "      <td>2020</td>\n",
       "    </tr>\n",
       "  </tbody>\n",
       "</table>\n",
       "</div>"
      ],
      "text/plain": [
       "    fuel_code                     station_name                address  \\\n",
       "159      ELEC         LADWP - Truesdale Center     11797 Truesdale St   \n",
       "160      ELEC  LADWP - West LA District Office  1394 S Sepulveda Blvd   \n",
       "\n",
       "            city state    zip group_access_code  level1_evse_num  \\\n",
       "159   Sun Valley    CA  91352           Private                0   \n",
       "160  Los Angeles    CA  90024           Private                0   \n",
       "\n",
       "     level2_evse_num  ev_dc_fast_count     ev_network        lat        long  \\\n",
       "159               39                 3  Non-Networked  34.248319 -118.387971   \n",
       "160                4                 0  Non-Networked  34.052542 -118.448504   \n",
       "\n",
       "    update_date  open_date            connector_type pricing  year_opened  \n",
       "159  2021-07-14 1999-10-15  CHADEMO J1772 J1772COMBO    Cost         1999  \n",
       "160  2021-07-14 2020-02-28                     J1772    Free         2020  "
      ]
     },
     "execution_count": 7,
     "metadata": {},
     "output_type": "execute_result"
    }
   ],
   "source": [
    "ev.head(2)"
   ]
  },
  {
   "cell_type": "code",
   "execution_count": null,
   "id": "59c6aa7f",
   "metadata": {},
   "outputs": [],
   "source": []
  }
 ],
 "metadata": {
  "kernelspec": {
   "display_name": "Python 3",
   "language": "python",
   "name": "python3"
  },
  "language_info": {
   "codemirror_mode": {
    "name": "ipython",
    "version": 3
   },
   "file_extension": ".py",
   "mimetype": "text/x-python",
   "name": "python",
   "nbconvert_exporter": "python",
   "pygments_lexer": "ipython3",
   "version": "3.8.8"
  }
 },
 "nbformat": 4,
 "nbformat_minor": 5
}
